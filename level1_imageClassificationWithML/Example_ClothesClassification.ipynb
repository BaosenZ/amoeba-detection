{
  "nbformat": 4,
  "nbformat_minor": 0,
  "metadata": {
    "colab": {
      "name": "Example_ClothesClassification.ipynb",
      "provenance": [],
      "collapsed_sections": []
    },
    "kernelspec": {
      "name": "python3",
      "display_name": "Python 3"
    },
    "language_info": {
      "name": "python"
    },
    "accelerator": "GPU"
  },
  "cells": [
    {
      "cell_type": "markdown",
      "source": [
        "# Example: Clothes Classification Using Fashion_MNIST dataset\n"
      ],
      "metadata": {
        "id": "FQqt4NiC9seI"
      }
    },
    {
      "cell_type": "markdown",
      "source": [
        "We welcome you to this level1 that is about image classification with machine learning.\n",
        "\n",
        "We will introduce chemistry students to image classification with machine learning. In this example, we will introduce the basic Convolutional neural network (CNN) model to classify Fashion_MNIST dataset, which contains 28x28 grayscale images of 10 fashion categories. From this notebook, you will understand the basic workflow to train and evaluate the model and use the model to predict clothes categories(inference). \n"
      ],
      "metadata": {
        "id": "ssk6A_t995bq"
      }
    },
    {
      "cell_type": "markdown",
      "source": [
        "## Table of content\n",
        "\n",
        "* Load images dataset\n",
        "* Data preparation\n",
        "* Build and train the model\n",
        "* Evaluate the model\n",
        "* Inference"
      ],
      "metadata": {
        "id": "67hUMIJj98O8"
      }
    },
    {
      "cell_type": "markdown",
      "source": [
        "# Load images dataset"
      ],
      "metadata": {
        "id": "_v4BrcXf-Ha6"
      }
    },
    {
      "cell_type": "markdown",
      "source": [
        "At the begining, we will directly load the Fashion_MNIST dataset from keras. Fashion_MNIST is a popular dataset that is used for image classification. More details about this dataset can be found on the website: https://keras.io/api/datasets/fashion_mnist/.\n"
      ],
      "metadata": {
        "id": "2twQfwG9ArcX"
      }
    },
    {
      "cell_type": "code",
      "execution_count": null,
      "metadata": {
        "id": "dK728lzN85VZ",
        "colab": {
          "base_uri": "https://localhost:8080/"
        },
        "outputId": "9e1ed053-8ec6-4d48-bb81-820e11e35a22"
      },
      "outputs": [
        {
          "output_type": "stream",
          "name": "stdout",
          "text": [
            "Downloading data from https://storage.googleapis.com/tensorflow/tf-keras-datasets/train-labels-idx1-ubyte.gz\n",
            "32768/29515 [=================================] - 0s 0us/step\n",
            "40960/29515 [=========================================] - 0s 0us/step\n",
            "Downloading data from https://storage.googleapis.com/tensorflow/tf-keras-datasets/train-images-idx3-ubyte.gz\n",
            "26427392/26421880 [==============================] - 0s 0us/step\n",
            "26435584/26421880 [==============================] - 0s 0us/step\n",
            "Downloading data from https://storage.googleapis.com/tensorflow/tf-keras-datasets/t10k-labels-idx1-ubyte.gz\n",
            "16384/5148 [===============================================================================================] - 0s 0us/step\n",
            "Downloading data from https://storage.googleapis.com/tensorflow/tf-keras-datasets/t10k-images-idx3-ubyte.gz\n",
            "4423680/4422102 [==============================] - 0s 0us/step\n",
            "4431872/4422102 [==============================] - 0s 0us/step\n"
          ]
        }
      ],
      "source": [
        "# import packages\n",
        "import tensorflow as tf\n",
        "from tensorflow import keras\n",
        "import numpy as np\n",
        "import matplotlib.pyplot as plt\n",
        "\n",
        "# load MNIST dataset\n",
        "(X_train_full, y_train_full), (X_test, y_test) = keras.datasets.fashion_mnist.load_data()"
      ]
    },
    {
      "cell_type": "markdown",
      "source": [
        "# Data preparation"
      ],
      "metadata": {
        "id": "m32ztmLV-Q3E"
      }
    },
    {
      "cell_type": "code",
      "source": [
        "# Visualize the dataset\n",
        "fig,axes = plt.subplots(3,4,figsize=(20, 20))\n",
        "\n",
        "j = 0\n",
        "for i,img in enumerate(X_train_full[:12]):\n",
        "    axes[i//4,j%4].imshow(img)\n",
        "    j+=1"
      ],
      "metadata": {
        "colab": {
          "base_uri": "https://localhost:8080/",
          "height": 1000
        },
        "id": "kPDA1qxLDV2e",
        "outputId": "74ccf69e-95c9-4f9b-82e3-4f03f3ce2b66"
      },
      "execution_count": null,
      "outputs": [
        {
          "output_type": "display_data",
          "data": {
            "text/plain": [
              "<Figure size 1440x1440 with 12 Axes>"
            ],
            "image/png": "[encoded data removed]"
          },
          "metadata": {
            "needs_background": "light"
          }
        }
      ]
    },
    {
      "cell_type": "code",
      "source": [
        "# Data preparation\n",
        "\n",
        "# split the X_train_full into X_train and X_valid\n",
        "X_train, X_valid = X_train_full[:-5000], X_train_full[-5000:]\n",
        "y_train, y_valid = y_train_full[:-5000], y_train_full[-5000:]\n",
        "\n",
        "# normalize the dataset\n",
        "X_mean = X_train.mean(axis=0, keepdims=True)\n",
        "X_std = X_train.std(axis=0, keepdims=True) + 1e-7\n",
        "X_train_norm = (X_train - X_mean) / X_std\n",
        "X_valid_norm = (X_valid - X_mean) / X_std\n",
        "X_test_norm = (X_test - X_mean) / X_std\n",
        "\n",
        "X_train_norm = X_train_norm[..., np.newaxis]\n",
        "X_valid_norm = X_valid_norm[..., np.newaxis]\n",
        "X_test_norm = X_test_norm[..., np.newaxis]"
      ],
      "metadata": {
        "id": "dkntrNqp-N-Y"
      },
      "execution_count": null,
      "outputs": []
    },
    {
      "cell_type": "markdown",
      "source": [
        "# Build and train the model"
      ],
      "metadata": {
        "id": "N5n4q9St-cHc"
      }
    },
    {
      "cell_type": "markdown",
      "source": [
        "Currently, there are many machine learning (ML) model structures that can be used. Here, we provide two simple ML models. The first one is a sequentail model. This is the simplest kind of Keras model for neural networks that are composed of just a single stack of layers, connected sequentally. The second is a simple convolutional neural network (CNN) model. \n"
      ],
      "metadata": {
        "id": "qPmqscz6_9VP"
      }
    },
    {
      "cell_type": "markdown",
      "source": [
        "You can comment out this block of code to run this simplest sequential model to compare the difference between sequentail model and CNN model. "
      ],
      "metadata": {
        "id": "Pr__3zEGBITC"
      }
    },
    {
      "cell_type": "code",
      "source": [
        "# Build the model (sequential)\n",
        "\n",
        "# model = keras.models.Sequential()\n",
        "# model.add(keras.layers.Flatten(input_shape=[28, 28, 1]))\n",
        "# model.add(keras.layers.Dense(300, activation=\"relu\"))\n",
        "# model.add(keras.layers.Dense(100, activation=\"relu\"))\n",
        "# model.add(keras.layers.Dense(10, activation=\"softmax\"))"
      ],
      "metadata": {
        "id": "2a0VVoiF-gsQ"
      },
      "execution_count": null,
      "outputs": []
    },
    {
      "cell_type": "code",
      "source": [
        "# Build the model (sequential CNN model)\n",
        "from functools import partial\n",
        "\n",
        "DefaultConv2D = partial(keras.layers.Conv2D, kernel_size=3, activation='relu', padding=\"SAME\")\n",
        "\n",
        "model = keras.models.Sequential([\n",
        "    DefaultConv2D(filters=64, kernel_size=7, input_shape=[28, 28, 1]),\n",
        "    keras.layers.MaxPooling2D(pool_size=2),\n",
        "    DefaultConv2D(filters=128),\n",
        "    DefaultConv2D(filters=128),\n",
        "    keras.layers.MaxPooling2D(pool_size=2),\n",
        "    DefaultConv2D(filters=256),\n",
        "    DefaultConv2D(filters=256),\n",
        "    keras.layers.MaxPooling2D(pool_size=2),\n",
        "    keras.layers.Flatten(),\n",
        "    keras.layers.Dense(units=128, activation='relu'),\n",
        "    keras.layers.Dropout(0.5),\n",
        "    keras.layers.Dense(units=64, activation='relu'),\n",
        "    keras.layers.Dropout(0.5),\n",
        "    keras.layers.Dense(units=10, activation='softmax'),\n",
        "])"
      ],
      "metadata": {
        "id": "Y6Cv8KZI9Ils"
      },
      "execution_count": null,
      "outputs": []
    },
    {
      "cell_type": "code",
      "source": [
        "# Compile the model\n",
        "model.compile(loss=\"sparse_categorical_crossentropy\", optimizer=\"nadam\", metrics=[\"accuracy\"])"
      ],
      "metadata": {
        "id": "pTBy58S79MLi"
      },
      "execution_count": null,
      "outputs": []
    },
    {
      "cell_type": "code",
      "source": [
        "# Train the model\n",
        "history = model.fit(X_train_norm, y_train, epochs=10, validation_data=[X_valid, y_valid])"
      ],
      "metadata": {
        "colab": {
          "base_uri": "https://localhost:8080/"
        },
        "id": "C8nzH0GO-lvi",
        "outputId": "9728896f-6404-499e-f768-6af1d6a1ce84"
      },
      "execution_count": null,
      "outputs": [
        {
          "output_type": "stream",
          "name": "stdout",
          "text": [
            "Epoch 1/10\n",
            "1719/1719 [==============================] - 28s 9ms/step - loss: 0.7186 - accuracy: 0.7502 - val_loss: 0.3844 - val_accuracy: 0.8604\n",
            "Epoch 2/10\n",
            "1719/1719 [==============================] - 14s 8ms/step - loss: 0.4336 - accuracy: 0.8549 - val_loss: 0.3383 - val_accuracy: 0.8698\n",
            "Epoch 3/10\n",
            "1719/1719 [==============================] - 15s 9ms/step - loss: 0.3718 - accuracy: 0.8747 - val_loss: 0.3104 - val_accuracy: 0.8854\n",
            "Epoch 4/10\n",
            "1719/1719 [==============================] - 14s 8ms/step - loss: 0.3336 - accuracy: 0.8879 - val_loss: 0.3015 - val_accuracy: 0.8910\n",
            "Epoch 5/10\n",
            "1719/1719 [==============================] - 14s 8ms/step - loss: 0.3091 - accuracy: 0.8956 - val_loss: 0.2887 - val_accuracy: 0.8914\n",
            "Epoch 6/10\n",
            "1719/1719 [==============================] - 14s 8ms/step - loss: 0.2983 - accuracy: 0.8985 - val_loss: 0.2904 - val_accuracy: 0.8980\n",
            "Epoch 7/10\n",
            "1719/1719 [==============================] - 14s 8ms/step - loss: 0.2875 - accuracy: 0.9036 - val_loss: 0.2794 - val_accuracy: 0.9008\n",
            "Epoch 8/10\n",
            "1719/1719 [==============================] - 14s 8ms/step - loss: 0.2728 - accuracy: 0.9066 - val_loss: 0.2848 - val_accuracy: 0.8966\n",
            "Epoch 9/10\n",
            "1719/1719 [==============================] - 14s 8ms/step - loss: 0.2609 - accuracy: 0.9108 - val_loss: 0.2993 - val_accuracy: 0.8970\n",
            "Epoch 10/10\n",
            "1719/1719 [==============================] - 15s 8ms/step - loss: 0.2561 - accuracy: 0.9137 - val_loss: 0.2835 - val_accuracy: 0.9048\n"
          ]
        }
      ]
    },
    {
      "cell_type": "markdown",
      "source": [
        "# Evaluate the model"
      ],
      "metadata": {
        "id": "bEZ2X9ZY_HKF"
      }
    },
    {
      "cell_type": "code",
      "source": [
        "# visualize the model structure with model.summary(). Feel free to comment out the code below to visualize the model structure\n",
        "\n",
        "# model.summary()"
      ],
      "metadata": {
        "id": "2KhrA9_S9OSS"
      },
      "execution_count": null,
      "outputs": []
    },
    {
      "cell_type": "markdown",
      "source": [
        "The test dataset is not used for training and validation, which means the images are new to the trained model. We will use it to get the performance of the model. The performance is acceptable because the accuracy for the test dataset is nearly the same as the accuracy for the train and validation dataset."
      ],
      "metadata": {
        "id": "gWVWXxcMGeEB"
      }
    },
    {
      "cell_type": "code",
      "source": [
        "# Using test dataset to evaluate loss and accuracy for trained model\n",
        "results = model.evaluate(X_test_norm, y_test, batch_size=128)"
      ],
      "metadata": {
        "colab": {
          "base_uri": "https://localhost:8080/"
        },
        "id": "KnGT-Mze_GM3",
        "outputId": "596f8d51-47a0-4efb-97e9-84c54ca4a446"
      },
      "execution_count": null,
      "outputs": [
        {
          "output_type": "stream",
          "name": "stdout",
          "text": [
            "79/79 [==============================] - 1s 8ms/step - loss: 0.3050 - accuracy: 0.8978\n"
          ]
        }
      ]
    },
    {
      "cell_type": "markdown",
      "source": [
        "At the end of epoch, the accuary of trainning dataset and validation dataset should be close. This is an easy way to determine if there is overfitting or not. "
      ],
      "metadata": {
        "id": "EnZp9Pi0HKJW"
      }
    },
    {
      "cell_type": "code",
      "source": [
        "# plot accuracy vs epoch\n",
        "plt.plot(history.history['accuracy'],'r')\n",
        "plt.plot(history.history['val_accuracy'])\n",
        "plt.title('model accuracy')\n",
        "plt.ylabel('accuracy')\n",
        "plt.xlabel('epoch')\n",
        "plt.legend(['train', 'validation'], loc='upper left') \n",
        "plt.show()"
      ],
      "metadata": {
        "colab": {
          "base_uri": "https://localhost:8080/",
          "height": 295
        },
        "id": "f1oxwxiu9nfU",
        "outputId": "2b4b06aa-799c-49e9-8707-f469f2695318"
      },
      "execution_count": null,
      "outputs": [
        {
          "output_type": "display_data",
          "data": {
            "text/plain": [
              "<Figure size 432x288 with 1 Axes>"
            ],
            "image/png": "[encoded data removed]"
          },
          "metadata": {
            "needs_background": "light"
          }
        }
      ]
    },
    {
      "cell_type": "markdown",
      "source": [
        "# Inference"
      ],
      "metadata": {
        "id": "duWBp34y_SMF"
      }
    },
    {
      "cell_type": "markdown",
      "source": [
        "We visualize the image and use our judgement to see what piece of clothes it is and then compare it to the model prediction.\n",
        "\n"
      ],
      "metadata": {
        "id": "1q6FPmOrI2qx"
      }
    },
    {
      "cell_type": "code",
      "source": [
        "# Visualize one image, X_test[x]. Here we choose X_test[1]. You can choose any of the images among all test dataset (10,000 images)\n",
        "from keras.applications.imagenet_utils import decode_predictions\n",
        "from keras.preprocessing import image\n",
        "\n",
        "img1 = X_test[1]\n",
        "plt.imshow(img1)\n"
      ],
      "metadata": {
        "colab": {
          "base_uri": "https://localhost:8080/",
          "height": 282
        },
        "id": "LGH1Lcn3OUas",
        "outputId": "e4ba2dd6-3b90-4472-a288-c0e42d4a1fe6"
      },
      "execution_count": null,
      "outputs": [
        {
          "output_type": "execute_result",
          "data": {
            "text/plain": [
              "<matplotlib.image.AxesImage at 0x7fd43e1a93d0>"
            ]
          },
          "metadata": {},
          "execution_count": 11
        },
        {
          "output_type": "display_data",
          "data": {
            "text/plain": [
              "<Figure size 432x288 with 1 Axes>"
            ],
            "image/png": "[encoded data removed]"
          },
          "metadata": {
            "needs_background": "light"
          }
        }
      ]
    },
    {
      "cell_type": "markdown",
      "source": [
        "The class labels are collected from the website: https://keras.io/api/datasets/fashion_mnist/. Then we will predict the image above with model.predict() function to see if it matches with your judgement."
      ],
      "metadata": {
        "id": "AipKpqrtIZWu"
      }
    },
    {
      "cell_type": "code",
      "source": [
        "class_label = ['T-shirt/top', 'Trouser', 'Pullover', 'Dress', 'Coat', 'Sandal', 'Shirt', 'Sneaker', 'Bag', 'Ankle boot']\n",
        "# image process\n",
        "x = image.img_to_array(X_test_norm[1])\n",
        "x = np.expand_dims(x, axis=0)\n",
        "\n",
        "# predict the X_test[1] with model.predict()\n",
        "y_prob = model.predict(x)\n",
        "print(\"probality for each of the catogaries: \", y_prob)\n",
        "y_class = y_prob.argmax(axis=-1)\n",
        "# print(\"cloth index\", y_class)\n",
        "print(\"cloth catogaries the model predict: \", class_label[y_class[0]])"
      ],
      "metadata": {
        "colab": {
          "base_uri": "https://localhost:8080/"
        },
        "id": "3DyWVt8lJEf0",
        "outputId": "507dabb8-2fec-40d4-b93b-8b854abb5085"
      },
      "execution_count": null,
      "outputs": [
        {
          "output_type": "stream",
          "name": "stdout",
          "text": [
            "probality for each of the catogaries:  [[1.8640243e-09 2.6676890e-20 9.9977750e-01 1.1433950e-14 5.0992046e-05\n",
            "  4.5123544e-23 1.7151995e-04 1.9939859e-28 8.6324733e-16 2.8405919e-23]]\n",
            "cloth catogaries the model predict:  Pullover\n"
          ]
        }
      ]
    },
    {
      "cell_type": "code",
      "source": [
        ""
      ],
      "metadata": {
        "id": "aMgGUo7nJ7Bv"
      },
      "execution_count": null,
      "outputs": []
    }
  ]
}