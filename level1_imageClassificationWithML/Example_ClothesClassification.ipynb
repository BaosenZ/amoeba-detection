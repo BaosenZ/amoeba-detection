{
  "nbformat": 4,
  "nbformat_minor": 0,
  "metadata": {
    "colab": {
      "name": "Example_ClothesClassification.ipynb",
      "provenance": [],
      "collapsed_sections": [],
      "toc_visible": true
    },
    "kernelspec": {
      "name": "python3",
      "display_name": "Python 3"
    },
    "language_info": {
      "name": "python"
    },
    "accelerator": "GPU"
  },
  "cells": [
    {
      "cell_type": "markdown",
      "source": [
        "# Example: Clothes Classification Using Fashion_MNIST dataset\n"
      ],
      "metadata": {
        "id": "FQqt4NiC9seI"
      }
    },
    {
      "cell_type": "markdown",
      "source": [
        "We welcome you to this level 1 that is about image classification with machine learning.\n",
        "\n",
        "We will introduce chemistry students to image classification with machine learning. In this example, we will introduce the basic Convolutional neural network (CNN) model to classify Fashion_MNIST dataset, which contains 28x28 grayscale images of 10 fashion categories. From this notebook, you will understand the basic workflow to train and evaluate the model and use the model to predict clothes categories (inference). \n"
      ],
      "metadata": {
        "id": "ssk6A_t995bq"
      }
    },
    {
      "cell_type": "markdown",
      "source": [
        "## Table of content\n",
        "\n",
        "* Load images dataset\n",
        "* Data preparation\n",
        "* Build and train the model\n",
        "* Evaluate the model\n",
        "* Inference"
      ],
      "metadata": {
        "id": "67hUMIJj98O8"
      }
    },
    {
      "cell_type": "markdown",
      "source": [
        "# Load images dataset"
      ],
      "metadata": {
        "id": "_v4BrcXf-Ha6"
      }
    },
    {
      "cell_type": "markdown",
      "source": [
        "At the begining, we will directly load the Fashion_MNIST dataset from keras. Fashion_MNIST is a popular dataset that is used for image classification. More details about this dataset can be found on the website: https://keras.io/api/datasets/fashion_mnist/.\n"
      ],
      "metadata": {
        "id": "2twQfwG9ArcX"
      }
    },
    {
      "cell_type": "code",
      "execution_count": null,
      "metadata": {
        "id": "dK728lzN85VZ",
        "colab": {
          "base_uri": "https://localhost:8080/"
        },
        "outputId": "44cd06f7-27d7-4f51-af74-1e86126d3ff2"
      },
      "outputs": [
        {
          "output_type": "stream",
          "name": "stdout",
          "text": [
            "Downloading data from https://storage.googleapis.com/tensorflow/tf-keras-datasets/train-labels-idx1-ubyte.gz\n",
            "32768/29515 [=================================] - 0s 0us/step\n",
            "40960/29515 [=========================================] - 0s 0us/step\n",
            "Downloading data from https://storage.googleapis.com/tensorflow/tf-keras-datasets/train-images-idx3-ubyte.gz\n",
            "26427392/26421880 [==============================] - 0s 0us/step\n",
            "26435584/26421880 [==============================] - 0s 0us/step\n",
            "Downloading data from https://storage.googleapis.com/tensorflow/tf-keras-datasets/t10k-labels-idx1-ubyte.gz\n",
            "16384/5148 [===============================================================================================] - 0s 0us/step\n",
            "Downloading data from https://storage.googleapis.com/tensorflow/tf-keras-datasets/t10k-images-idx3-ubyte.gz\n",
            "4423680/4422102 [==============================] - 0s 0us/step\n",
            "4431872/4422102 [==============================] - 0s 0us/step\n"
          ]
        }
      ],
      "source": [
        "# import packages\n",
        "import tensorflow as tf\n",
        "from tensorflow import keras\n",
        "import numpy as np\n",
        "import matplotlib.pyplot as plt\n",
        "\n",
        "# load MNIST dataset\n",
        "(X_train_full, y_train_full), (X_test, y_test) = keras.datasets.fashion_mnist.load_data()"
      ]
    },
    {
      "cell_type": "markdown",
      "source": [
        "# Data preparation"
      ],
      "metadata": {
        "id": "m32ztmLV-Q3E"
      }
    },
    {
      "cell_type": "code",
      "source": [
        "# Visualize the dataset\n",
        "fig,axes = plt.subplots(3,4,figsize=(20, 20))\n",
        "\n",
        "j = 0\n",
        "for i,img in enumerate(X_train_full[:12]):\n",
        "    axes[i//4,j%4].imshow(img)\n",
        "    j+=1"
      ],
      "metadata": {
        "colab": {
          "base_uri": "https://localhost:8080/",
          "height": 1000
        },
        "id": "kPDA1qxLDV2e",
        "outputId": "ec8ef76b-3dda-4685-d9dd-19ec18e9ea78"
      },
      "execution_count": null,
      "outputs": [
        {
          "output_type": "display_data",
          "data": {
            "text/plain": [
              "<Figure size 1440x1440 with 12 Axes>"
            ],
            "image/png": "[encoded data removed]"
          },
          "metadata": {
            "needs_background": "light"
          }
        }
      ]
    },
    {
      "cell_type": "code",
      "source": [
        "# Data preparation\n",
        "\n",
        "# split the X_train_full into X_train and X_valid\n",
        "X_train, X_valid = X_train_full[:-5000], X_train_full[-5000:]\n",
        "y_train, y_valid = y_train_full[:-5000], y_train_full[-5000:]\n",
        "\n",
        "# normalize the dataset\n",
        "X_mean = X_train.mean(axis=0, keepdims=True)\n",
        "X_std = X_train.std(axis=0, keepdims=True) + 1e-7\n",
        "X_train_norm = (X_train - X_mean) / X_std\n",
        "X_valid_norm = (X_valid - X_mean) / X_std\n",
        "X_test_norm = (X_test - X_mean) / X_std\n",
        "\n",
        "X_train_norm = X_train_norm[..., np.newaxis]\n",
        "X_valid_norm = X_valid_norm[..., np.newaxis]\n",
        "X_test_norm = X_test_norm[..., np.newaxis]"
      ],
      "metadata": {
        "id": "dkntrNqp-N-Y"
      },
      "execution_count": null,
      "outputs": []
    },
    {
      "cell_type": "markdown",
      "source": [
        "# Build and train the model"
      ],
      "metadata": {
        "id": "N5n4q9St-cHc"
      }
    },
    {
      "cell_type": "markdown",
      "source": [
        "Simple convolustional neural network (CNN) is used to train the model. It is usually composed of different layers in keras. The Layers are the basic building blocks of neural networks in Keras. Those layers are composed of and can be referred in Keras doc: convolutional layers (https://keras.io/api/layers/convolution_layers/convolution2d/), pooling layer (https://keras.io/api/layers/pooling_layers/), input and dense layer (https://keras.io/api/layers/core_layers/), flatten layer (https://keras.io/api/layers/reshaping_layers/flatten/). The layer or CNN structure can refer to example in keras doc ( https://keras.io/examples/vision/mnist_convnet/) or related books (such as • Géron, A., 2019. Hands-on machine learning with Scikit-Learn, Keras, and TensorFlow: Concepts, tools, and techniques to build intelligent systems. \" O'Reilly Media, Inc.\".)."
      ],
      "metadata": {
        "id": "qPmqscz6_9VP"
      }
    },
    {
      "cell_type": "code",
      "source": [
        "# Build the model (sequential CNN model)\n",
        "from functools import partial\n",
        "\n",
        "DefaultConv2D = partial(keras.layers.Conv2D, kernel_size=3, activation='relu', padding=\"SAME\")\n",
        "\n",
        "model = keras.models.Sequential([\n",
        "    DefaultConv2D(filters=64, kernel_size=7, input_shape=[28, 28, 1]),\n",
        "    keras.layers.MaxPooling2D(pool_size=2),\n",
        "    DefaultConv2D(filters=128),\n",
        "    DefaultConv2D(filters=128),\n",
        "    keras.layers.MaxPooling2D(pool_size=2),\n",
        "    DefaultConv2D(filters=256),\n",
        "    DefaultConv2D(filters=256),\n",
        "    keras.layers.MaxPooling2D(pool_size=2),\n",
        "    keras.layers.Flatten(),\n",
        "    keras.layers.Dense(units=128, activation='relu'),\n",
        "    keras.layers.Dropout(0.5),\n",
        "    keras.layers.Dense(units=64, activation='relu'),\n",
        "    keras.layers.Dropout(0.5),\n",
        "    keras.layers.Dense(units=10, activation='softmax'),\n",
        "])"
      ],
      "metadata": {
        "id": "Y6Cv8KZI9Ils"
      },
      "execution_count": null,
      "outputs": []
    },
    {
      "cell_type": "markdown",
      "source": [
        "The purpose of loss functions is to compute the quantity that a model should seek to minimize during training. For more available loss function, refer keras doc: https://keras.io/api/losses/\n",
        "\n",
        "An optimizer is a function that modifies the attributes of the neural network, such as weights and learning rate. Thus, it helps in reducing the overall loss and improve the accuracy. For more available optimizer, refer keras doc: https://keras.io/api/optimizers/\n",
        "\n",
        "A metric is a function that is used to judge the performance of your model. For more available metrics, refer keras doc: https://keras.io/api/metrics/"
      ],
      "metadata": {
        "id": "5cyTYrJtlXLU"
      }
    },
    {
      "cell_type": "code",
      "source": [
        "# Compile the model\n",
        "model.compile(loss=\"sparse_categorical_crossentropy\", optimizer=\"nadam\", metrics=[\"accuracy\"])"
      ],
      "metadata": {
        "id": "pTBy58S79MLi"
      },
      "execution_count": null,
      "outputs": []
    },
    {
      "cell_type": "markdown",
      "source": [
        "Then we will start to train the model by calling model.fit() and save the model by calling model.save(). More information about these two functions are in the Keras doc: https://keras.io/api/models/."
      ],
      "metadata": {
        "id": "jt8jteAElY2k"
      }
    },
    {
      "cell_type": "code",
      "source": [
        "# Train the model\n",
        "history = model.fit(X_train_norm, y_train, epochs=20, validation_data=[X_valid_norm, y_valid])"
      ],
      "metadata": {
        "colab": {
          "base_uri": "https://localhost:8080/"
        },
        "id": "C8nzH0GO-lvi",
        "outputId": "795892ab-6927-4ab9-ca3d-89a8243602d8"
      },
      "execution_count": null,
      "outputs": [
        {
          "output_type": "stream",
          "name": "stdout",
          "text": [
            "Epoch 1/20\n",
            "1719/1719 [==============================] - 28s 9ms/step - loss: 0.6870 - accuracy: 0.7602 - val_loss: 0.3917 - val_accuracy: 0.8560\n",
            "Epoch 2/20\n",
            "1719/1719 [==============================] - 15s 9ms/step - loss: 0.4242 - accuracy: 0.8572 - val_loss: 0.3177 - val_accuracy: 0.8812\n",
            "Epoch 3/20\n",
            "1719/1719 [==============================] - 16s 9ms/step - loss: 0.3632 - accuracy: 0.8777 - val_loss: 0.3145 - val_accuracy: 0.8812\n",
            "Epoch 4/20\n",
            "1719/1719 [==============================] - 15s 9ms/step - loss: 0.3349 - accuracy: 0.8859 - val_loss: 0.3175 - val_accuracy: 0.8834\n",
            "Epoch 5/20\n",
            "1719/1719 [==============================] - 15s 9ms/step - loss: 0.3127 - accuracy: 0.8948 - val_loss: 0.2979 - val_accuracy: 0.8934\n",
            "Epoch 6/20\n",
            "1719/1719 [==============================] - 15s 9ms/step - loss: 0.2958 - accuracy: 0.8999 - val_loss: 0.2849 - val_accuracy: 0.8998\n",
            "Epoch 7/20\n",
            "1719/1719 [==============================] - 15s 9ms/step - loss: 0.2748 - accuracy: 0.9068 - val_loss: 0.2676 - val_accuracy: 0.9064\n",
            "Epoch 8/20\n",
            "1719/1719 [==============================] - 15s 9ms/step - loss: 0.2687 - accuracy: 0.9097 - val_loss: 0.2948 - val_accuracy: 0.8972\n",
            "Epoch 9/20\n",
            "1719/1719 [==============================] - 15s 9ms/step - loss: 0.2502 - accuracy: 0.9140 - val_loss: 0.3049 - val_accuracy: 0.8986\n",
            "Epoch 10/20\n",
            "1719/1719 [==============================] - 17s 10ms/step - loss: 0.2556 - accuracy: 0.9142 - val_loss: 0.3235 - val_accuracy: 0.8900\n",
            "Epoch 11/20\n",
            "1719/1719 [==============================] - 15s 9ms/step - loss: 0.2461 - accuracy: 0.9165 - val_loss: 0.2854 - val_accuracy: 0.8990\n",
            "Epoch 12/20\n",
            "1719/1719 [==============================] - 15s 9ms/step - loss: 0.2346 - accuracy: 0.9198 - val_loss: 0.3002 - val_accuracy: 0.8976\n",
            "Epoch 13/20\n",
            "1719/1719 [==============================] - 15s 9ms/step - loss: 0.2281 - accuracy: 0.9221 - val_loss: 0.2926 - val_accuracy: 0.9018\n",
            "Epoch 14/20\n",
            "1719/1719 [==============================] - 15s 9ms/step - loss: 0.2247 - accuracy: 0.9251 - val_loss: 0.2723 - val_accuracy: 0.9082\n",
            "Epoch 15/20\n",
            "1719/1719 [==============================] - 15s 9ms/step - loss: 0.2188 - accuracy: 0.9257 - val_loss: 0.2934 - val_accuracy: 0.9010\n",
            "Epoch 16/20\n",
            "1719/1719 [==============================] - 15s 9ms/step - loss: 0.2067 - accuracy: 0.9295 - val_loss: 0.3108 - val_accuracy: 0.9034\n",
            "Epoch 17/20\n",
            "1719/1719 [==============================] - 15s 9ms/step - loss: 0.2295 - accuracy: 0.9238 - val_loss: 0.3138 - val_accuracy: 0.9012\n",
            "Epoch 18/20\n",
            "1719/1719 [==============================] - 15s 9ms/step - loss: 0.1977 - accuracy: 0.9331 - val_loss: 0.3400 - val_accuracy: 0.9020\n",
            "Epoch 19/20\n",
            "1719/1719 [==============================] - 15s 9ms/step - loss: 0.2066 - accuracy: 0.9304 - val_loss: 0.3416 - val_accuracy: 0.9084\n",
            "Epoch 20/20\n",
            "1719/1719 [==============================] - 15s 9ms/step - loss: 0.1977 - accuracy: 0.9353 - val_loss: 0.3418 - val_accuracy: 0.9016\n"
          ]
        }
      ]
    },
    {
      "cell_type": "markdown",
      "source": [
        "# Evaluate the model"
      ],
      "metadata": {
        "id": "bEZ2X9ZY_HKF"
      }
    },
    {
      "cell_type": "code",
      "source": [
        "# visualize the model structure with model.summary(). Feel free to comment out the code below to visualize the model structure\n",
        "\n",
        "# model.summary()"
      ],
      "metadata": {
        "id": "2KhrA9_S9OSS"
      },
      "execution_count": null,
      "outputs": []
    },
    {
      "cell_type": "markdown",
      "source": [
        "The test dataset is not used for training and validation, which means the images are new to the trained model. We will use it to get the performance of the model. The performance is acceptable because the accuracy for the test dataset is nearly the same as the accuracy for the train and validation dataset."
      ],
      "metadata": {
        "id": "gWVWXxcMGeEB"
      }
    },
    {
      "cell_type": "code",
      "source": [
        "# Using test dataset to evaluate loss and accuracy for trained model\n",
        "results = model.evaluate(X_test_norm, y_test, batch_size=128)"
      ],
      "metadata": {
        "colab": {
          "base_uri": "https://localhost:8080/"
        },
        "id": "KnGT-Mze_GM3",
        "outputId": "15b6d1d6-0095-428c-e309-e77f6b0c9f4d"
      },
      "execution_count": null,
      "outputs": [
        {
          "output_type": "stream",
          "name": "stdout",
          "text": [
            "79/79 [==============================] - 1s 9ms/step - loss: 0.3463 - accuracy: 0.8980\n"
          ]
        }
      ]
    },
    {
      "cell_type": "markdown",
      "source": [
        "At the end of epoch, the accuary of trainning dataset and validation dataset should be close. This is an easy way to determine if there is overfitting or not. "
      ],
      "metadata": {
        "id": "EnZp9Pi0HKJW"
      }
    },
    {
      "cell_type": "code",
      "source": [
        "# plot accuracy vs epoch\n",
        "plt.plot(history.history['accuracy'],'r')\n",
        "plt.plot(history.history['val_accuracy'])\n",
        "plt.title('model accuracy')\n",
        "plt.ylabel('accuracy')\n",
        "plt.xlabel('epoch')\n",
        "plt.legend(['train', 'validation'], loc='upper left') \n",
        "plt.show()"
      ],
      "metadata": {
        "colab": {
          "base_uri": "https://localhost:8080/",
          "height": 295
        },
        "id": "f1oxwxiu9nfU",
        "outputId": "eed85c06-46ec-4fd2-f8eb-eb4983a446e0"
      },
      "execution_count": null,
      "outputs": [
        {
          "output_type": "display_data",
          "data": {
            "text/plain": [
              "<Figure size 432x288 with 1 Axes>"
            ],
            "image/png": "[encoded data removed]"
          },
          "metadata": {
            "needs_background": "light"
          }
        }
      ]
    },
    {
      "cell_type": "markdown",
      "source": [
        "# Inference"
      ],
      "metadata": {
        "id": "duWBp34y_SMF"
      }
    },
    {
      "cell_type": "markdown",
      "source": [
        "We visualize the image and use our judgement to see what piece of clothes it is and then compare it to the model prediction.\n",
        "\n"
      ],
      "metadata": {
        "id": "1q6FPmOrI2qx"
      }
    },
    {
      "cell_type": "code",
      "source": [
        "# Visualize one image, X_test[x]. Here we choose X_test[1]. You can choose any of the images among all test dataset (10,000 images)\n",
        "from keras.applications.imagenet_utils import decode_predictions\n",
        "from keras.preprocessing import image\n",
        "\n",
        "inference_image_number = 1  # Choose the number from 0-9,999 (amount of test dataset)!\n",
        "img1 = X_test[inference_image_number]\n",
        "plt.imshow(img1)"
      ],
      "metadata": {
        "colab": {
          "base_uri": "https://localhost:8080/",
          "height": 282
        },
        "id": "LGH1Lcn3OUas",
        "outputId": "71d7f718-1175-46ae-ecf1-7e54e243b6bf"
      },
      "execution_count": null,
      "outputs": [
        {
          "output_type": "execute_result",
          "data": {
            "text/plain": [
              "<matplotlib.image.AxesImage at 0x7f260df7ef90>"
            ]
          },
          "metadata": {},
          "execution_count": 11
        },
        {
          "output_type": "display_data",
          "data": {
            "text/plain": [
              "<Figure size 432x288 with 1 Axes>"
            ],
            "image/png": "[encoded data removed]"
          },
          "metadata": {
            "needs_background": "light"
          }
        }
      ]
    },
    {
      "cell_type": "markdown",
      "source": [
        "The class labels are collected from the website: https://keras.io/api/datasets/fashion_mnist/. Then we will predict the image above with model.predict() function to see if it matches with your judgement. Check the model.predict() reference: https://keras.io/api/models/model_training_apis/#predict-method"
      ],
      "metadata": {
        "id": "AipKpqrtIZWu"
      }
    },
    {
      "cell_type": "code",
      "source": [
        "class_label = ['T-shirt/top', 'Trouser', 'Pullover', 'Dress', 'Coat', 'Sandal', 'Shirt', 'Sneaker', 'Bag', 'Ankle boot']\n",
        "# image process\n",
        "x = np.squeeze(X_test_norm[inference_image_number])\n",
        "x = np.expand_dims(x, axis=0)\n",
        "\n",
        "# predict the X_test[1] with model.predict()\n",
        "y_prob = model.predict(x)\n",
        "print(\"probability for each of the catogaries: \", y_prob)\n",
        "y_class = y_prob.argmax(axis=-1)\n",
        "# print(\"cloth index\", y_class)\n",
        "print(\"cloth catogaries the model predict: \", class_label[y_class[0]])"
      ],
      "metadata": {
        "colab": {
          "base_uri": "https://localhost:8080/"
        },
        "id": "3DyWVt8lJEf0",
        "outputId": "cda7a7bf-77d6-41ab-de35-989ec1346e21"
      },
      "execution_count": null,
      "outputs": [
        {
          "output_type": "stream",
          "name": "stdout",
          "text": [
            "probality for each of the catogaries:  [[7.4733076e-12 6.9269179e-21 9.9993598e-01 2.1615082e-15 7.1122477e-06\n",
            "  0.0000000e+00 5.6890793e-05 0.0000000e+00 3.2912024e-18 0.0000000e+00]]\n",
            "cloth catogaries the model predict:  Pullover\n"
          ]
        }
      ]
    },
    {
      "cell_type": "code",
      "source": [
        ""
      ],
      "metadata": {
        "id": "aMgGUo7nJ7Bv"
      },
      "execution_count": null,
      "outputs": []
    }
  ]
}