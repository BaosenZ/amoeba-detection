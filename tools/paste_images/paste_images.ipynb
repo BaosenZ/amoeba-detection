{
 "cells": [
  {
   "cell_type": "code",
   "execution_count": 1,
   "metadata": {},
   "outputs": [
    {
     "name": "stdout",
     "output_type": "stream",
     "text": [
      "jobs done!\n"
     ]
    }
   ],
   "source": [
    "import os\n",
    "from PIL import Image\n",
    "\n",
    "COL = 1 #指定拼接图片的列数\n",
    "ROW = 2 #指定拼接图片的行数\n",
    "UNIT_HEIGHT_SIZE = 768 #图片高度\n",
    "UNIT_WIDTH_SIZE = 1024 #图片宽度\n",
    "SAVE_QUALITY = 100 #保存的图片的质量 可选0-100\n",
    "\n",
    "# path=input('请输入文件路径(结尾加上/)：')       \n",
    "path_pro='./pro'\n",
    "path_fow='./fow'\n",
    "path_save = './combinedImages'\n",
    "#获取该目录下所有文件，存入列表中\n",
    "fileList_pro=os.listdir(path_pro)\n",
    "fileList_fow=os.listdir(path_fow)\n",
    "\n",
    "n = 1\n",
    "for pro_fileName,fow_fileName in zip(fileList_pro,fileList_fow):\n",
    "    pro_image = Image.open(path_pro + '/' + pro_fileName)\n",
    "    fow_image = Image.open(path_fow + '/' + fow_fileName)\n",
    "    \n",
    "    # 创建成品图的画布\n",
    "    target = Image.new('RGB', (UNIT_WIDTH_SIZE * COL, UNIT_HEIGHT_SIZE * ROW))\n",
    "    \n",
    "    # paste方法第一个参数指定需要拼接的图片，第二个参数为二元元组（指定复制位置的左上角坐标）\n",
    "    target.paste(pro_image, (UNIT_WIDTH_SIZE*0, UNIT_HEIGHT_SIZE*0))\n",
    "    target.paste(fow_image, (UNIT_WIDTH_SIZE*0, UNIT_HEIGHT_SIZE*1))\n",
    "    \n",
    "    # Name and save image\n",
    "    nString = str(n)\n",
    "    target.save(path_save +'/' + nString + '.jpg', quality=SAVE_QUALITY)\n",
    "    n+=1\n",
    "\n",
    "print('jobs done!')"
   ]
  },
  {
   "cell_type": "code",
   "execution_count": null,
   "metadata": {},
   "outputs": [],
   "source": []
  }
 ],
 "metadata": {
  "kernelspec": {
   "display_name": "Python 3",
   "language": "python",
   "name": "python3"
  },
  "language_info": {
   "codemirror_mode": {
    "name": "ipython",
    "version": 3
   },
   "file_extension": ".py",
   "mimetype": "text/x-python",
   "name": "python",
   "nbconvert_exporter": "python",
   "pygments_lexer": "ipython3",
   "version": "3.7.4"
  },
  "toc": {
   "base_numbering": 1,
   "nav_menu": {},
   "number_sections": true,
   "sideBar": true,
   "skip_h1_title": false,
   "title_cell": "Table of Contents",
   "title_sidebar": "Contents",
   "toc_cell": false,
   "toc_position": {},
   "toc_section_display": true,
   "toc_window_display": false
  }
 },
 "nbformat": 4,
 "nbformat_minor": 2
}
