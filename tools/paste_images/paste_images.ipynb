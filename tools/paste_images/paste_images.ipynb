{
  "cells": [
    {
      "cell_type": "code",
      "execution_count": null,
      "metadata": {
        "id": "QzQ_Gc08kT4J",
        "outputId": "e19538cf-9892-48b8-abe2-69c84f06411f"
      },
      "outputs": [
        {
          "name": "stdout",
          "output_type": "stream",
          "text": [
            "jobs done!\n"
          ]
        }
      ],
      "source": [
        "import os\n",
        "from PIL import Image\n",
        "\n",
        "COL = 1 # the column of paste image\n",
        "ROW = 2 # the row of paster image\n",
        "UNIT_HEIGHT_SIZE = 768 # height of image\n",
        "UNIT_WIDTH_SIZE = 1024 # width of image\n",
        "SAVE_QUALITY = 100 # quality of saved image: 0-100\n",
        "\n",
        "# proteus amoeba image save in the folder called \"pro\"     \n",
        "path_pro='./pro'\n",
        "# fowleri amoeba image save in the folder called \"fow\"\n",
        "path_fow='./fow'\n",
        "# paste images save in the folder called \"combinedImages\"\n",
        "path_save = './combinedImages'\n",
        "# get all files in the folder and save them into list. \n",
        "fileList_pro=os.listdir(path_pro)\n",
        "fileList_fow=os.listdir(path_fow)\n",
        "\n",
        "n = 1\n",
        "for pro_fileName,fow_fileName in zip(fileList_pro,fileList_fow):\n",
        "    pro_image = Image.open(path_pro + '/' + pro_fileName)\n",
        "    fow_image = Image.open(path_fow + '/' + fow_fileName)\n",
        "    \n",
        "    # create blank image\n",
        "    target = Image.new('RGB', (UNIT_WIDTH_SIZE * COL, UNIT_HEIGHT_SIZE * ROW))\n",
        "    \n",
        "    # .paste() first parameter is the paste image; second parameter is coordinate at left and up position\n",
        "    target.paste(pro_image, (UNIT_WIDTH_SIZE*0, UNIT_HEIGHT_SIZE*0))\n",
        "    target.paste(fow_image, (UNIT_WIDTH_SIZE*0, UNIT_HEIGHT_SIZE*1))\n",
        "    \n",
        "    # Name and save image\n",
        "    nString = str(n)\n",
        "    target.save(path_save +'/' + nString + '.jpg', quality=SAVE_QUALITY)\n",
        "    n+=1\n",
        "\n",
        "print('jobs done!')"
      ]
    },
    {
      "cell_type": "code",
      "execution_count": null,
      "metadata": {
        "id": "w9v47rgmkT4Q"
      },
      "outputs": [],
      "source": [
        ""
      ]
    }
  ],
  "metadata": {
    "kernelspec": {
      "display_name": "Python 3",
      "language": "python",
      "name": "python3"
    },
    "language_info": {
      "codemirror_mode": {
        "name": "ipython",
        "version": 3
      },
      "file_extension": ".py",
      "mimetype": "text/x-python",
      "name": "python",
      "nbconvert_exporter": "python",
      "pygments_lexer": "ipython3",
      "version": "3.7.4"
    },
    "toc": {
      "base_numbering": 1,
      "nav_menu": {},
      "number_sections": true,
      "sideBar": true,
      "skip_h1_title": false,
      "title_cell": "Table of Contents",
      "title_sidebar": "Contents",
      "toc_cell": false,
      "toc_position": {},
      "toc_section_display": true,
      "toc_window_display": false
    },
    "colab": {
      "name": "paste_images.ipynb",
      "provenance": [],
      "collapsed_sections": [],
      "toc_visible": true
    }
  },
  "nbformat": 4,
  "nbformat_minor": 0
}